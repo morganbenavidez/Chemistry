{
  "nbformat": 4,
  "nbformat_minor": 0,
  "metadata": {
    "colab": {
      "provenance": [],
      "collapsed_sections": []
    },
    "kernelspec": {
      "name": "python3",
      "display_name": "Python 3"
    },
    "language_info": {
      "name": "python"
    }
  },
  "cells": [
    {
      "cell_type": "code",
      "execution_count": 19,
      "metadata": {
        "id": "kPG2iGOUuinR"
      },
      "outputs": [],
      "source": [
        "def scientificNotation(number, exponent):\n",
        "\n",
        "  answer = 10**exponent\n",
        "  answer = number * answer\n",
        "  \n",
        "  return answer\n"
      ]
    },
    {
      "cell_type": "markdown",
      "source": [
        "6"
      ],
      "metadata": {
        "id": "iqwkA_qSwaMa"
      }
    },
    {
      "cell_type": "code",
      "source": [
        "scientificNotation(4.9,-4) * scientificNotation(4.9,-4)"
      ],
      "metadata": {
        "colab": {
          "base_uri": "https://localhost:8080/"
        },
        "id": "QEhpjiQRwKVW",
        "outputId": "37a147fa-b3b4-4f36-8d4f-edb792d0bf64"
      },
      "execution_count": 25,
      "outputs": [
        {
          "output_type": "execute_result",
          "data": {
            "text/plain": [
              "2.401000000000001e-07"
            ]
          },
          "metadata": {},
          "execution_count": 25
        }
      ]
    },
    {
      "cell_type": "code",
      "source": [
        "scientificNotation(-2.2, -4) / scientificNotation(2.4, -7)"
      ],
      "metadata": {
        "colab": {
          "base_uri": "https://localhost:8080/"
        },
        "id": "iXFw1ax2vHeo",
        "outputId": "efca09ae-6281-45b1-b2d6-34b36086331b"
      },
      "execution_count": 20,
      "outputs": [
        {
          "output_type": "execute_result",
          "data": {
            "text/plain": [
              "-916.6666666666669"
            ]
          },
          "metadata": {},
          "execution_count": 20
        }
      ]
    },
    {
      "cell_type": "markdown",
      "source": [
        "7"
      ],
      "metadata": {
        "id": "XbsrrZBGwcok"
      }
    },
    {
      "cell_type": "code",
      "source": [
        "scientificNotation(5.3,-4) * scientificNotation(9.2,-4)"
      ],
      "metadata": {
        "colab": {
          "base_uri": "https://localhost:8080/"
        },
        "id": "oQwOLr-NwdaX",
        "outputId": "7620a0aa-2e54-4e90-a7b2-ddd0071bda32"
      },
      "execution_count": 27,
      "outputs": [
        {
          "output_type": "execute_result",
          "data": {
            "text/plain": [
              "4.875999999999999e-07"
            ]
          },
          "metadata": {},
          "execution_count": 27
        }
      ]
    },
    {
      "cell_type": "code",
      "source": [
        "scientificNotation(1.8, -4) / scientificNotation(4.9, -7)"
      ],
      "metadata": {
        "colab": {
          "base_uri": "https://localhost:8080/"
        },
        "id": "UhSLAxj3u-rL",
        "outputId": "3b6f2786-3f94-4cb7-e4d1-8daebacb866a"
      },
      "execution_count": 21,
      "outputs": [
        {
          "output_type": "execute_result",
          "data": {
            "text/plain": [
              "367.34693877551024"
            ]
          },
          "metadata": {},
          "execution_count": 21
        }
      ]
    },
    {
      "cell_type": "markdown",
      "source": [
        "8"
      ],
      "metadata": {
        "id": "oE7bsn6lwqfF"
      }
    },
    {
      "cell_type": "code",
      "source": [
        "scientificNotation(0.7,-4) * scientificNotation(-5.0,-4)"
      ],
      "metadata": {
        "colab": {
          "base_uri": "https://localhost:8080/"
        },
        "id": "BkZ1f5VbwrVC",
        "outputId": "3b278db8-983f-4443-8481-0573134ffe62"
      },
      "execution_count": 30,
      "outputs": [
        {
          "output_type": "execute_result",
          "data": {
            "text/plain": [
              "-3.4999999999999996e-08"
            ]
          },
          "metadata": {},
          "execution_count": 30
        }
      ]
    },
    {
      "cell_type": "code",
      "source": [
        "scientificNotation(6.4, -4) / scientificNotation(-3.5, -8)"
      ],
      "metadata": {
        "colab": {
          "base_uri": "https://localhost:8080/"
        },
        "id": "VuqKIaFlvNR-",
        "outputId": "8286d162-553f-4d91-f07e-e0281a3a9502"
      },
      "execution_count": 34,
      "outputs": [
        {
          "output_type": "execute_result",
          "data": {
            "text/plain": [
              "-18285.714285714286"
            ]
          },
          "metadata": {},
          "execution_count": 34
        }
      ]
    },
    {
      "cell_type": "markdown",
      "source": [
        "9"
      ],
      "metadata": {
        "id": "gGjx8pQ3w23B"
      }
    },
    {
      "cell_type": "code",
      "source": [
        "scientificNotation(-1.0,-5) * scientificNotation(-5.3,-4)"
      ],
      "metadata": {
        "colab": {
          "base_uri": "https://localhost:8080/"
        },
        "id": "MAagm4adw3wb",
        "outputId": "ea9afad1-1040-413c-92b4-c1263080ca53"
      },
      "execution_count": 31,
      "outputs": [
        {
          "output_type": "execute_result",
          "data": {
            "text/plain": [
              "5.3e-09"
            ]
          },
          "metadata": {},
          "execution_count": 31
        }
      ]
    },
    {
      "cell_type": "code",
      "source": [
        "scientificNotation(7.2, -4) / scientificNotation(-5, -9)"
      ],
      "metadata": {
        "colab": {
          "base_uri": "https://localhost:8080/"
        },
        "id": "C5_AjNtLvNbj",
        "outputId": "4c9bfe71-9bfb-4e10-b44b-4d05952871b3"
      },
      "execution_count": 36,
      "outputs": [
        {
          "output_type": "execute_result",
          "data": {
            "text/plain": [
              "-144000.0"
            ]
          },
          "metadata": {},
          "execution_count": 36
        }
      ]
    },
    {
      "cell_type": "markdown",
      "source": [
        "10"
      ],
      "metadata": {
        "id": "C01BiKzxxHLi"
      }
    },
    {
      "cell_type": "code",
      "source": [
        "scientificNotation(3.9,-4) * scientificNotation(-1.1,-4)"
      ],
      "metadata": {
        "colab": {
          "base_uri": "https://localhost:8080/"
        },
        "id": "5m3STG7_xKI8",
        "outputId": "c1a2ceda-c9a4-4964-b4b5-10a5273a1bdf"
      },
      "execution_count": 32,
      "outputs": [
        {
          "output_type": "execute_result",
          "data": {
            "text/plain": [
              "-4.290000000000001e-08"
            ]
          },
          "metadata": {},
          "execution_count": 32
        }
      ]
    },
    {
      "cell_type": "code",
      "source": [
        "scientificNotation(-3.2, -4) / scientificNotation(-4.29, -8)"
      ],
      "metadata": {
        "colab": {
          "base_uri": "https://localhost:8080/"
        },
        "id": "5OFvg9NZvNjv",
        "outputId": "1d6a974b-eeaa-4b14-e9d3-270da4de4779"
      },
      "execution_count": 33,
      "outputs": [
        {
          "output_type": "execute_result",
          "data": {
            "text/plain": [
              "7459.20745920746"
            ]
          },
          "metadata": {},
          "execution_count": 33
        }
      ]
    }
  ]
}